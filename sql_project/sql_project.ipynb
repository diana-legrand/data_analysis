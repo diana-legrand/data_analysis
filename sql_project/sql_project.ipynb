{
 "cells": [
  {
   "cell_type": "markdown",
   "id": "c8f2ee34",
   "metadata": {},
   "source": [
    "<font size = 6> <b> Проект по SQL </b></font>"
   ]
  },
  {
   "cell_type": "markdown",
   "id": "5a8a49a3",
   "metadata": {},
   "source": [
    "## Цель исследования"
   ]
  },
  {
   "cell_type": "markdown",
   "id": "49ba0ff2",
   "metadata": {},
   "source": [
    "В данном проекте с помощью SQL-запросов анализируются данные о рынке книг (книги, издательства, авторы, пользовательские обзоры. Заказчик - компания, которая купила крупный сервис для чтения книг по подписке. После пандемии COVID-19 мир изменился, люди стали больше времени проводить дома, в том числе за чтением книг. На рынке образовалась ниша в сфере стартапов - приложений для чтения книг. В 2022-2025 гг. стремление к самообразованию будет расти. Все больше людей интересуются новыми направлениями, хотят кардинально поменять сферу деятельности. Поэтому сейчас востребована литература по теме бизнеса, психологии, быстрого входа в новую профессию. К тому же, книги читают для удовольствия, развлечения, общего развития. Несмотря на глобальную диджитализацию спрос на печатную книжную продукцию по-прежнему высок. В интернет-магазинах успешно продаются в том числе электронные и аудиоформаты.\n",
    "\n",
    "**Цель исследования** - проанализировать базу данных с целью выявления трендов рынка. Эти данные помогут сформулировать ценностное предложение для нового продукта."
   ]
  },
  {
   "cell_type": "code",
   "execution_count": 1,
   "id": "f83144ef",
   "metadata": {},
   "outputs": [],
   "source": [
    "import pandas as pd\n",
    "import matplotlib.pyplot as plt\n",
    "%matplotlib inline\n",
    "import seaborn as sns\n",
    "from sqlalchemy import create_engine \n",
    "\n",
    "pd.set_option('display.float_format', '{:,.2f}'.format) #настройки pandas для отображения чисел без лишних запятых\n",
    "pd.set_option(\"max_colwidth\", 200) #настройки pandas для отображения строк полностью"
   ]
  },
  {
   "cell_type": "code",
   "execution_count": 2,
   "id": "66726cd5",
   "metadata": {},
   "outputs": [],
   "source": [
    "db_config = {'user': 'praktikum_student', # имя пользователя\n",
    "'pwd': 'Sdf4$2;d-d30pp', # пароль\n",
    "'host': 'rc1b-wcoijxj3yxfsf3fs.mdb.yandexcloud.net',\n",
    "'port': 6432, # порт подключения\n",
    "'db': 'data-analyst-final-project-db'} # название базы данных"
   ]
  },
  {
   "cell_type": "code",
   "execution_count": 3,
   "id": "43524f23",
   "metadata": {},
   "outputs": [],
   "source": [
    "connection_string = 'postgresql://{}:{}@{}:{}/{}'.format(db_config['user'],\n",
    " db_config['pwd'],\n",
    " db_config['host'],\n",
    " db_config['port'],\n",
    " db_config['db']) "
   ]
  },
  {
   "cell_type": "code",
   "execution_count": 4,
   "id": "dbc85895",
   "metadata": {},
   "outputs": [],
   "source": [
    "# сохраняем коннектор\n",
    "engine = create_engine(connection_string, connect_args={'sslmode':'require'}) "
   ]
  },
  {
   "cell_type": "markdown",
   "id": "ddd14e1a",
   "metadata": {},
   "source": [
    "## Описание данных"
   ]
  },
  {
   "cell_type": "markdown",
   "id": "fcaa3621",
   "metadata": {},
   "source": [
    "### Таблица books"
   ]
  },
  {
   "cell_type": "markdown",
   "id": "c4c2f71a",
   "metadata": {},
   "source": [
    "Содержит данные о книгах:\n",
    "\n",
    "- `book_id` — идентификатор книги;\n",
    "- `author_id` — идентификатор автора;\n",
    "- `title` — название книги;\n",
    "- `num_pages` — количество страниц;\n",
    "- `publication_date` — дата публикации книги;\n",
    "- `publisher_id` — идентификатор издателя."
   ]
  },
  {
   "cell_type": "code",
   "execution_count": 5,
   "id": "9a1f2be6",
   "metadata": {},
   "outputs": [
    {
     "data": {
      "text/html": [
       "<div>\n",
       "<style scoped>\n",
       "    .dataframe tbody tr th:only-of-type {\n",
       "        vertical-align: middle;\n",
       "    }\n",
       "\n",
       "    .dataframe tbody tr th {\n",
       "        vertical-align: top;\n",
       "    }\n",
       "\n",
       "    .dataframe thead th {\n",
       "        text-align: right;\n",
       "    }\n",
       "</style>\n",
       "<table border=\"1\" class=\"dataframe\">\n",
       "  <thead>\n",
       "    <tr style=\"text-align: right;\">\n",
       "      <th></th>\n",
       "      <th>book_id</th>\n",
       "      <th>author_id</th>\n",
       "      <th>title</th>\n",
       "      <th>num_pages</th>\n",
       "      <th>publication_date</th>\n",
       "      <th>publisher_id</th>\n",
       "    </tr>\n",
       "  </thead>\n",
       "  <tbody>\n",
       "    <tr>\n",
       "      <th>0</th>\n",
       "      <td>1</td>\n",
       "      <td>546</td>\n",
       "      <td>'Salem's Lot</td>\n",
       "      <td>594</td>\n",
       "      <td>2005-11-01</td>\n",
       "      <td>93</td>\n",
       "    </tr>\n",
       "    <tr>\n",
       "      <th>1</th>\n",
       "      <td>2</td>\n",
       "      <td>465</td>\n",
       "      <td>1 000 Places to See Before You Die</td>\n",
       "      <td>992</td>\n",
       "      <td>2003-05-22</td>\n",
       "      <td>336</td>\n",
       "    </tr>\n",
       "    <tr>\n",
       "      <th>2</th>\n",
       "      <td>3</td>\n",
       "      <td>407</td>\n",
       "      <td>13 Little Blue Envelopes (Little Blue Envelope  #1)</td>\n",
       "      <td>322</td>\n",
       "      <td>2010-12-21</td>\n",
       "      <td>135</td>\n",
       "    </tr>\n",
       "    <tr>\n",
       "      <th>3</th>\n",
       "      <td>4</td>\n",
       "      <td>82</td>\n",
       "      <td>1491: New Revelations of the Americas Before Columbus</td>\n",
       "      <td>541</td>\n",
       "      <td>2006-10-10</td>\n",
       "      <td>309</td>\n",
       "    </tr>\n",
       "    <tr>\n",
       "      <th>4</th>\n",
       "      <td>5</td>\n",
       "      <td>125</td>\n",
       "      <td>1776</td>\n",
       "      <td>386</td>\n",
       "      <td>2006-07-04</td>\n",
       "      <td>268</td>\n",
       "    </tr>\n",
       "    <tr>\n",
       "      <th>...</th>\n",
       "      <td>...</td>\n",
       "      <td>...</td>\n",
       "      <td>...</td>\n",
       "      <td>...</td>\n",
       "      <td>...</td>\n",
       "      <td>...</td>\n",
       "    </tr>\n",
       "    <tr>\n",
       "      <th>995</th>\n",
       "      <td>996</td>\n",
       "      <td>571</td>\n",
       "      <td>Wyrd Sisters (Discworld  #6; Witches #2)</td>\n",
       "      <td>265</td>\n",
       "      <td>2001-02-06</td>\n",
       "      <td>147</td>\n",
       "    </tr>\n",
       "    <tr>\n",
       "      <th>996</th>\n",
       "      <td>997</td>\n",
       "      <td>454</td>\n",
       "      <td>Xenocide (Ender's Saga  #3)</td>\n",
       "      <td>592</td>\n",
       "      <td>1996-07-15</td>\n",
       "      <td>297</td>\n",
       "    </tr>\n",
       "    <tr>\n",
       "      <th>997</th>\n",
       "      <td>998</td>\n",
       "      <td>201</td>\n",
       "      <td>Year of Wonders</td>\n",
       "      <td>358</td>\n",
       "      <td>2002-04-30</td>\n",
       "      <td>212</td>\n",
       "    </tr>\n",
       "    <tr>\n",
       "      <th>998</th>\n",
       "      <td>999</td>\n",
       "      <td>94</td>\n",
       "      <td>You Suck (A Love Story  #2)</td>\n",
       "      <td>328</td>\n",
       "      <td>2007-01-16</td>\n",
       "      <td>331</td>\n",
       "    </tr>\n",
       "    <tr>\n",
       "      <th>999</th>\n",
       "      <td>1000</td>\n",
       "      <td>509</td>\n",
       "      <td>Zen and the Art of Motorcycle Maintenance: An Inquiry Into Values (Phaedrus  #1)</td>\n",
       "      <td>540</td>\n",
       "      <td>2006-04-25</td>\n",
       "      <td>143</td>\n",
       "    </tr>\n",
       "  </tbody>\n",
       "</table>\n",
       "<p>1000 rows × 6 columns</p>\n",
       "</div>"
      ],
      "text/plain": [
       "     book_id  author_id  \\\n",
       "0          1        546   \n",
       "1          2        465   \n",
       "2          3        407   \n",
       "3          4         82   \n",
       "4          5        125   \n",
       "..       ...        ...   \n",
       "995      996        571   \n",
       "996      997        454   \n",
       "997      998        201   \n",
       "998      999         94   \n",
       "999     1000        509   \n",
       "\n",
       "                                                                                title  \\\n",
       "0                                                                        'Salem's Lot   \n",
       "1                                                  1 000 Places to See Before You Die   \n",
       "2                                 13 Little Blue Envelopes (Little Blue Envelope  #1)   \n",
       "3                               1491: New Revelations of the Americas Before Columbus   \n",
       "4                                                                                1776   \n",
       "..                                                                                ...   \n",
       "995                                          Wyrd Sisters (Discworld  #6; Witches #2)   \n",
       "996                                                       Xenocide (Ender's Saga  #3)   \n",
       "997                                                                   Year of Wonders   \n",
       "998                                                       You Suck (A Love Story  #2)   \n",
       "999  Zen and the Art of Motorcycle Maintenance: An Inquiry Into Values (Phaedrus  #1)   \n",
       "\n",
       "     num_pages publication_date  publisher_id  \n",
       "0          594       2005-11-01            93  \n",
       "1          992       2003-05-22           336  \n",
       "2          322       2010-12-21           135  \n",
       "3          541       2006-10-10           309  \n",
       "4          386       2006-07-04           268  \n",
       "..         ...              ...           ...  \n",
       "995        265       2001-02-06           147  \n",
       "996        592       1996-07-15           297  \n",
       "997        358       2002-04-30           212  \n",
       "998        328       2007-01-16           331  \n",
       "999        540       2006-04-25           143  \n",
       "\n",
       "[1000 rows x 6 columns]"
      ]
     },
     "execution_count": 5,
     "metadata": {},
     "output_type": "execute_result"
    }
   ],
   "source": [
    "pd.io.sql.read_sql('SELECT * FROM books', con = engine)"
   ]
  },
  {
   "cell_type": "code",
   "execution_count": 6,
   "id": "85a2eabb",
   "metadata": {},
   "outputs": [
    {
     "name": "stdout",
     "output_type": "stream",
     "text": [
      "<class 'pandas.core.frame.DataFrame'>\n",
      "RangeIndex: 1000 entries, 0 to 999\n",
      "Data columns (total 6 columns):\n",
      " #   Column            Non-Null Count  Dtype \n",
      "---  ------            --------------  ----- \n",
      " 0   book_id           1000 non-null   int64 \n",
      " 1   author_id         1000 non-null   int64 \n",
      " 2   title             1000 non-null   object\n",
      " 3   num_pages         1000 non-null   int64 \n",
      " 4   publication_date  1000 non-null   object\n",
      " 5   publisher_id      1000 non-null   int64 \n",
      "dtypes: int64(4), object(2)\n",
      "memory usage: 47.0+ KB\n"
     ]
    }
   ],
   "source": [
    "pd.io.sql.read_sql('SELECT * FROM books', con = engine).info()"
   ]
  },
  {
   "cell_type": "markdown",
   "id": "83e8e65e",
   "metadata": {},
   "source": [
    "### Таблица authors"
   ]
  },
  {
   "cell_type": "markdown",
   "id": "5238317a",
   "metadata": {},
   "source": [
    "Содержит данные об авторах:\n",
    "\n",
    "- `author_id` — идентификатор автора;\n",
    "- `author` — имя автора."
   ]
  },
  {
   "cell_type": "code",
   "execution_count": 7,
   "id": "31d32b02",
   "metadata": {},
   "outputs": [
    {
     "data": {
      "text/html": [
       "<div>\n",
       "<style scoped>\n",
       "    .dataframe tbody tr th:only-of-type {\n",
       "        vertical-align: middle;\n",
       "    }\n",
       "\n",
       "    .dataframe tbody tr th {\n",
       "        vertical-align: top;\n",
       "    }\n",
       "\n",
       "    .dataframe thead th {\n",
       "        text-align: right;\n",
       "    }\n",
       "</style>\n",
       "<table border=\"1\" class=\"dataframe\">\n",
       "  <thead>\n",
       "    <tr style=\"text-align: right;\">\n",
       "      <th></th>\n",
       "      <th>author_id</th>\n",
       "      <th>author</th>\n",
       "    </tr>\n",
       "  </thead>\n",
       "  <tbody>\n",
       "    <tr>\n",
       "      <th>0</th>\n",
       "      <td>1</td>\n",
       "      <td>A.S. Byatt</td>\n",
       "    </tr>\n",
       "    <tr>\n",
       "      <th>1</th>\n",
       "      <td>2</td>\n",
       "      <td>Aesop/Laura Harris/Laura Gibbs</td>\n",
       "    </tr>\n",
       "    <tr>\n",
       "      <th>2</th>\n",
       "      <td>3</td>\n",
       "      <td>Agatha Christie</td>\n",
       "    </tr>\n",
       "    <tr>\n",
       "      <th>3</th>\n",
       "      <td>4</td>\n",
       "      <td>Alan Brennert</td>\n",
       "    </tr>\n",
       "    <tr>\n",
       "      <th>4</th>\n",
       "      <td>5</td>\n",
       "      <td>Alan Moore/David   Lloyd</td>\n",
       "    </tr>\n",
       "    <tr>\n",
       "      <th>...</th>\n",
       "      <td>...</td>\n",
       "      <td>...</td>\n",
       "    </tr>\n",
       "    <tr>\n",
       "      <th>631</th>\n",
       "      <td>632</td>\n",
       "      <td>William Strunk Jr./E.B. White</td>\n",
       "    </tr>\n",
       "    <tr>\n",
       "      <th>632</th>\n",
       "      <td>633</td>\n",
       "      <td>Zadie Smith</td>\n",
       "    </tr>\n",
       "    <tr>\n",
       "      <th>633</th>\n",
       "      <td>634</td>\n",
       "      <td>Zilpha Keatley Snyder</td>\n",
       "    </tr>\n",
       "    <tr>\n",
       "      <th>634</th>\n",
       "      <td>635</td>\n",
       "      <td>Zora Neale Hurston</td>\n",
       "    </tr>\n",
       "    <tr>\n",
       "      <th>635</th>\n",
       "      <td>636</td>\n",
       "      <td>Åsne Seierstad/Ingrid Christopherson</td>\n",
       "    </tr>\n",
       "  </tbody>\n",
       "</table>\n",
       "<p>636 rows × 2 columns</p>\n",
       "</div>"
      ],
      "text/plain": [
       "     author_id                                author\n",
       "0            1                            A.S. Byatt\n",
       "1            2        Aesop/Laura Harris/Laura Gibbs\n",
       "2            3                       Agatha Christie\n",
       "3            4                         Alan Brennert\n",
       "4            5              Alan Moore/David   Lloyd\n",
       "..         ...                                   ...\n",
       "631        632         William Strunk Jr./E.B. White\n",
       "632        633                           Zadie Smith\n",
       "633        634                 Zilpha Keatley Snyder\n",
       "634        635                    Zora Neale Hurston\n",
       "635        636  Åsne Seierstad/Ingrid Christopherson\n",
       "\n",
       "[636 rows x 2 columns]"
      ]
     },
     "execution_count": 7,
     "metadata": {},
     "output_type": "execute_result"
    }
   ],
   "source": [
    "pd.io.sql.read_sql('SELECT * FROM authors;', con = engine)"
   ]
  },
  {
   "cell_type": "markdown",
   "id": "4fa67216",
   "metadata": {},
   "source": [
    "### Таблица publishers"
   ]
  },
  {
   "cell_type": "markdown",
   "id": "07e9e47c",
   "metadata": {},
   "source": [
    "Содержит данные об издательствах:\n",
    "\n",
    "- `publisher_id` — идентификатор издательства;\n",
    "- `publisher` — название издательства;"
   ]
  },
  {
   "cell_type": "code",
   "execution_count": 8,
   "id": "03af0ba4",
   "metadata": {},
   "outputs": [
    {
     "data": {
      "text/html": [
       "<div>\n",
       "<style scoped>\n",
       "    .dataframe tbody tr th:only-of-type {\n",
       "        vertical-align: middle;\n",
       "    }\n",
       "\n",
       "    .dataframe tbody tr th {\n",
       "        vertical-align: top;\n",
       "    }\n",
       "\n",
       "    .dataframe thead th {\n",
       "        text-align: right;\n",
       "    }\n",
       "</style>\n",
       "<table border=\"1\" class=\"dataframe\">\n",
       "  <thead>\n",
       "    <tr style=\"text-align: right;\">\n",
       "      <th></th>\n",
       "      <th>publisher_id</th>\n",
       "      <th>publisher</th>\n",
       "    </tr>\n",
       "  </thead>\n",
       "  <tbody>\n",
       "    <tr>\n",
       "      <th>0</th>\n",
       "      <td>1</td>\n",
       "      <td>Ace</td>\n",
       "    </tr>\n",
       "    <tr>\n",
       "      <th>1</th>\n",
       "      <td>2</td>\n",
       "      <td>Ace Book</td>\n",
       "    </tr>\n",
       "    <tr>\n",
       "      <th>2</th>\n",
       "      <td>3</td>\n",
       "      <td>Ace Books</td>\n",
       "    </tr>\n",
       "    <tr>\n",
       "      <th>3</th>\n",
       "      <td>4</td>\n",
       "      <td>Ace Hardcover</td>\n",
       "    </tr>\n",
       "    <tr>\n",
       "      <th>4</th>\n",
       "      <td>5</td>\n",
       "      <td>Addison Wesley Publishing Company</td>\n",
       "    </tr>\n",
       "    <tr>\n",
       "      <th>...</th>\n",
       "      <td>...</td>\n",
       "      <td>...</td>\n",
       "    </tr>\n",
       "    <tr>\n",
       "      <th>335</th>\n",
       "      <td>336</td>\n",
       "      <td>Workman Publishing Company</td>\n",
       "    </tr>\n",
       "    <tr>\n",
       "      <th>336</th>\n",
       "      <td>337</td>\n",
       "      <td>Wyatt Book</td>\n",
       "    </tr>\n",
       "    <tr>\n",
       "      <th>337</th>\n",
       "      <td>338</td>\n",
       "      <td>Yale University Press</td>\n",
       "    </tr>\n",
       "    <tr>\n",
       "      <th>338</th>\n",
       "      <td>339</td>\n",
       "      <td>Yearling</td>\n",
       "    </tr>\n",
       "    <tr>\n",
       "      <th>339</th>\n",
       "      <td>340</td>\n",
       "      <td>Yearling Books</td>\n",
       "    </tr>\n",
       "  </tbody>\n",
       "</table>\n",
       "<p>340 rows × 2 columns</p>\n",
       "</div>"
      ],
      "text/plain": [
       "     publisher_id                          publisher\n",
       "0               1                                Ace\n",
       "1               2                           Ace Book\n",
       "2               3                          Ace Books\n",
       "3               4                      Ace Hardcover\n",
       "4               5  Addison Wesley Publishing Company\n",
       "..            ...                                ...\n",
       "335           336         Workman Publishing Company\n",
       "336           337                         Wyatt Book\n",
       "337           338              Yale University Press\n",
       "338           339                           Yearling\n",
       "339           340                     Yearling Books\n",
       "\n",
       "[340 rows x 2 columns]"
      ]
     },
     "execution_count": 8,
     "metadata": {},
     "output_type": "execute_result"
    }
   ],
   "source": [
    "pd.io.sql.read_sql('SELECT * FROM publishers;', con = engine)"
   ]
  },
  {
   "cell_type": "markdown",
   "id": "cc42330d",
   "metadata": {},
   "source": [
    "### Таблица ratings"
   ]
  },
  {
   "cell_type": "markdown",
   "id": "9f564c63",
   "metadata": {},
   "source": [
    "Содержит данные о пользовательских оценках книг:\n",
    "\n",
    "- `rating_id` — идентификатор оценки;\n",
    "- `book_id` — идентификатор книги;\n",
    "- `username` — имя пользователя, оставившего оценку;\n",
    "- `rating` — оценка книги."
   ]
  },
  {
   "cell_type": "code",
   "execution_count": 9,
   "id": "9675c90c",
   "metadata": {},
   "outputs": [
    {
     "data": {
      "text/html": [
       "<div>\n",
       "<style scoped>\n",
       "    .dataframe tbody tr th:only-of-type {\n",
       "        vertical-align: middle;\n",
       "    }\n",
       "\n",
       "    .dataframe tbody tr th {\n",
       "        vertical-align: top;\n",
       "    }\n",
       "\n",
       "    .dataframe thead th {\n",
       "        text-align: right;\n",
       "    }\n",
       "</style>\n",
       "<table border=\"1\" class=\"dataframe\">\n",
       "  <thead>\n",
       "    <tr style=\"text-align: right;\">\n",
       "      <th></th>\n",
       "      <th>rating_id</th>\n",
       "      <th>book_id</th>\n",
       "      <th>username</th>\n",
       "      <th>rating</th>\n",
       "    </tr>\n",
       "  </thead>\n",
       "  <tbody>\n",
       "    <tr>\n",
       "      <th>0</th>\n",
       "      <td>1</td>\n",
       "      <td>1</td>\n",
       "      <td>ryanfranco</td>\n",
       "      <td>4</td>\n",
       "    </tr>\n",
       "    <tr>\n",
       "      <th>1</th>\n",
       "      <td>2</td>\n",
       "      <td>1</td>\n",
       "      <td>grantpatricia</td>\n",
       "      <td>2</td>\n",
       "    </tr>\n",
       "    <tr>\n",
       "      <th>2</th>\n",
       "      <td>3</td>\n",
       "      <td>1</td>\n",
       "      <td>brandtandrea</td>\n",
       "      <td>5</td>\n",
       "    </tr>\n",
       "    <tr>\n",
       "      <th>3</th>\n",
       "      <td>4</td>\n",
       "      <td>2</td>\n",
       "      <td>lorichen</td>\n",
       "      <td>3</td>\n",
       "    </tr>\n",
       "    <tr>\n",
       "      <th>4</th>\n",
       "      <td>5</td>\n",
       "      <td>2</td>\n",
       "      <td>mariokeller</td>\n",
       "      <td>2</td>\n",
       "    </tr>\n",
       "    <tr>\n",
       "      <th>...</th>\n",
       "      <td>...</td>\n",
       "      <td>...</td>\n",
       "      <td>...</td>\n",
       "      <td>...</td>\n",
       "    </tr>\n",
       "    <tr>\n",
       "      <th>6451</th>\n",
       "      <td>6452</td>\n",
       "      <td>1000</td>\n",
       "      <td>carolrodriguez</td>\n",
       "      <td>4</td>\n",
       "    </tr>\n",
       "    <tr>\n",
       "      <th>6452</th>\n",
       "      <td>6453</td>\n",
       "      <td>1000</td>\n",
       "      <td>wendy18</td>\n",
       "      <td>4</td>\n",
       "    </tr>\n",
       "    <tr>\n",
       "      <th>6453</th>\n",
       "      <td>6454</td>\n",
       "      <td>1000</td>\n",
       "      <td>jarvispaul</td>\n",
       "      <td>5</td>\n",
       "    </tr>\n",
       "    <tr>\n",
       "      <th>6454</th>\n",
       "      <td>6455</td>\n",
       "      <td>1000</td>\n",
       "      <td>zross</td>\n",
       "      <td>2</td>\n",
       "    </tr>\n",
       "    <tr>\n",
       "      <th>6455</th>\n",
       "      <td>6456</td>\n",
       "      <td>1000</td>\n",
       "      <td>fharris</td>\n",
       "      <td>5</td>\n",
       "    </tr>\n",
       "  </tbody>\n",
       "</table>\n",
       "<p>6456 rows × 4 columns</p>\n",
       "</div>"
      ],
      "text/plain": [
       "      rating_id  book_id        username  rating\n",
       "0             1        1      ryanfranco       4\n",
       "1             2        1   grantpatricia       2\n",
       "2             3        1    brandtandrea       5\n",
       "3             4        2        lorichen       3\n",
       "4             5        2     mariokeller       2\n",
       "...         ...      ...             ...     ...\n",
       "6451       6452     1000  carolrodriguez       4\n",
       "6452       6453     1000         wendy18       4\n",
       "6453       6454     1000      jarvispaul       5\n",
       "6454       6455     1000           zross       2\n",
       "6455       6456     1000         fharris       5\n",
       "\n",
       "[6456 rows x 4 columns]"
      ]
     },
     "execution_count": 9,
     "metadata": {},
     "output_type": "execute_result"
    }
   ],
   "source": [
    "pd.io.sql.read_sql('SELECT * FROM ratings;', con = engine)"
   ]
  },
  {
   "cell_type": "markdown",
   "id": "103eec6a",
   "metadata": {},
   "source": [
    "### Таблица reviews"
   ]
  },
  {
   "cell_type": "markdown",
   "id": "290cab27",
   "metadata": {},
   "source": [
    "Содержит данные о пользовательских обзорах на книги:\n",
    "\n",
    "- `review_id` — идентификатор обзора;\n",
    "- `book_id` — идентификатор книги;\n",
    "- `username` — имя пользователя, написавшего обзор;\n",
    "- `text` — текст обзора."
   ]
  },
  {
   "cell_type": "code",
   "execution_count": 10,
   "id": "1bf6dc7b",
   "metadata": {},
   "outputs": [
    {
     "data": {
      "text/html": [
       "<div>\n",
       "<style scoped>\n",
       "    .dataframe tbody tr th:only-of-type {\n",
       "        vertical-align: middle;\n",
       "    }\n",
       "\n",
       "    .dataframe tbody tr th {\n",
       "        vertical-align: top;\n",
       "    }\n",
       "\n",
       "    .dataframe thead th {\n",
       "        text-align: right;\n",
       "    }\n",
       "</style>\n",
       "<table border=\"1\" class=\"dataframe\">\n",
       "  <thead>\n",
       "    <tr style=\"text-align: right;\">\n",
       "      <th></th>\n",
       "      <th>review_id</th>\n",
       "      <th>book_id</th>\n",
       "      <th>username</th>\n",
       "      <th>text</th>\n",
       "    </tr>\n",
       "  </thead>\n",
       "  <tbody>\n",
       "    <tr>\n",
       "      <th>0</th>\n",
       "      <td>1</td>\n",
       "      <td>1</td>\n",
       "      <td>brandtandrea</td>\n",
       "      <td>Mention society tell send professor analysis. Over provide race technology continue these.</td>\n",
       "    </tr>\n",
       "    <tr>\n",
       "      <th>1</th>\n",
       "      <td>2</td>\n",
       "      <td>1</td>\n",
       "      <td>ryanfranco</td>\n",
       "      <td>Foot glass pretty audience hit themselves. Among admit investment argue security.</td>\n",
       "    </tr>\n",
       "    <tr>\n",
       "      <th>2</th>\n",
       "      <td>3</td>\n",
       "      <td>2</td>\n",
       "      <td>lorichen</td>\n",
       "      <td>Listen treat keep worry. Miss husband tax but person sport treatment industry. Kitchen decision deep the. Social party body the.</td>\n",
       "    </tr>\n",
       "    <tr>\n",
       "      <th>3</th>\n",
       "      <td>4</td>\n",
       "      <td>3</td>\n",
       "      <td>johnsonamanda</td>\n",
       "      <td>Finally month interesting blue could nature cultural bit. Prepare beat finish grow that smile teach. Dream me play near.</td>\n",
       "    </tr>\n",
       "    <tr>\n",
       "      <th>4</th>\n",
       "      <td>5</td>\n",
       "      <td>3</td>\n",
       "      <td>scotttamara</td>\n",
       "      <td>Nation purpose heavy give wait song will. List dinner another whole positive radio fast. Music staff many green.</td>\n",
       "    </tr>\n",
       "    <tr>\n",
       "      <th>...</th>\n",
       "      <td>...</td>\n",
       "      <td>...</td>\n",
       "      <td>...</td>\n",
       "      <td>...</td>\n",
       "    </tr>\n",
       "    <tr>\n",
       "      <th>2788</th>\n",
       "      <td>2789</td>\n",
       "      <td>999</td>\n",
       "      <td>martinadam</td>\n",
       "      <td>Later hospital turn easy community. Fact same enter true practice student system.</td>\n",
       "    </tr>\n",
       "    <tr>\n",
       "      <th>2789</th>\n",
       "      <td>2790</td>\n",
       "      <td>1000</td>\n",
       "      <td>wknight</td>\n",
       "      <td>Change lose answer close pressure. Spend so now.</td>\n",
       "    </tr>\n",
       "    <tr>\n",
       "      <th>2790</th>\n",
       "      <td>2791</td>\n",
       "      <td>1000</td>\n",
       "      <td>carolrodriguez</td>\n",
       "      <td>Authority go who television entire hair guy population. Pm vote take. Long born close thought person old. Visit ever school manage about.</td>\n",
       "    </tr>\n",
       "    <tr>\n",
       "      <th>2791</th>\n",
       "      <td>2792</td>\n",
       "      <td>1000</td>\n",
       "      <td>wendy18</td>\n",
       "      <td>Or western offer wonder ask. More hear phone foreign amount within cell. Ball poor hot that kid.</td>\n",
       "    </tr>\n",
       "    <tr>\n",
       "      <th>2792</th>\n",
       "      <td>2793</td>\n",
       "      <td>1000</td>\n",
       "      <td>jarvispaul</td>\n",
       "      <td>Republican staff bit eat material measure plan. Pretty issue claim rate push energy couple bit.</td>\n",
       "    </tr>\n",
       "  </tbody>\n",
       "</table>\n",
       "<p>2793 rows × 4 columns</p>\n",
       "</div>"
      ],
      "text/plain": [
       "      review_id  book_id        username  \\\n",
       "0             1        1    brandtandrea   \n",
       "1             2        1      ryanfranco   \n",
       "2             3        2        lorichen   \n",
       "3             4        3   johnsonamanda   \n",
       "4             5        3     scotttamara   \n",
       "...         ...      ...             ...   \n",
       "2788       2789      999      martinadam   \n",
       "2789       2790     1000         wknight   \n",
       "2790       2791     1000  carolrodriguez   \n",
       "2791       2792     1000         wendy18   \n",
       "2792       2793     1000      jarvispaul   \n",
       "\n",
       "                                                                                                                                           text  \n",
       "0                                                    Mention society tell send professor analysis. Over provide race technology continue these.  \n",
       "1                                                             Foot glass pretty audience hit themselves. Among admit investment argue security.  \n",
       "2              Listen treat keep worry. Miss husband tax but person sport treatment industry. Kitchen decision deep the. Social party body the.  \n",
       "3                      Finally month interesting blue could nature cultural bit. Prepare beat finish grow that smile teach. Dream me play near.  \n",
       "4                              Nation purpose heavy give wait song will. List dinner another whole positive radio fast. Music staff many green.  \n",
       "...                                                                                                                                         ...  \n",
       "2788                                                          Later hospital turn easy community. Fact same enter true practice student system.  \n",
       "2789                                                                                           Change lose answer close pressure. Spend so now.  \n",
       "2790  Authority go who television entire hair guy population. Pm vote take. Long born close thought person old. Visit ever school manage about.  \n",
       "2791                                           Or western offer wonder ask. More hear phone foreign amount within cell. Ball poor hot that kid.  \n",
       "2792                                            Republican staff bit eat material measure plan. Pretty issue claim rate push energy couple bit.  \n",
       "\n",
       "[2793 rows x 4 columns]"
      ]
     },
     "execution_count": 10,
     "metadata": {},
     "output_type": "execute_result"
    }
   ],
   "source": [
    "pd.io.sql.read_sql('SELECT * FROM reviews;', con = engine)"
   ]
  },
  {
   "cell_type": "markdown",
   "id": "a2b12603",
   "metadata": {},
   "source": [
    "## Проведение SQL-запросов"
   ]
  },
  {
   "cell_type": "markdown",
   "id": "476a64b5",
   "metadata": {},
   "source": [
    "### Количество книг, вышедших после 1 января 2000 г."
   ]
  },
  {
   "cell_type": "markdown",
   "id": "347882b2",
   "metadata": {},
   "source": [
    "Посчитаем, сколько книг вышло после 1 января 2000 года:"
   ]
  },
  {
   "cell_type": "code",
   "execution_count": 11,
   "id": "80f0a32a",
   "metadata": {},
   "outputs": [
    {
     "data": {
      "text/html": [
       "<div>\n",
       "<style scoped>\n",
       "    .dataframe tbody tr th:only-of-type {\n",
       "        vertical-align: middle;\n",
       "    }\n",
       "\n",
       "    .dataframe tbody tr th {\n",
       "        vertical-align: top;\n",
       "    }\n",
       "\n",
       "    .dataframe thead th {\n",
       "        text-align: right;\n",
       "    }\n",
       "</style>\n",
       "<table border=\"1\" class=\"dataframe\">\n",
       "  <thead>\n",
       "    <tr style=\"text-align: right;\">\n",
       "      <th></th>\n",
       "      <th>count</th>\n",
       "    </tr>\n",
       "  </thead>\n",
       "  <tbody>\n",
       "    <tr>\n",
       "      <th>0</th>\n",
       "      <td>821</td>\n",
       "    </tr>\n",
       "  </tbody>\n",
       "</table>\n",
       "</div>"
      ],
      "text/plain": [
       "   count\n",
       "0    821"
      ]
     },
     "execution_count": 11,
     "metadata": {},
     "output_type": "execute_result"
    }
   ],
   "source": [
    "query1 = '''SELECT COUNT (book_id)\n",
    "         FROM books \n",
    "         WHERE books.publication_date >= '2000-01-01';\n",
    "         '''\n",
    "\n",
    "pd.io.sql.read_sql(query1, con = engine)"
   ]
  },
  {
   "cell_type": "markdown",
   "id": "6d75990c",
   "metadata": {},
   "source": [
    "После 1 января 2000 г. была опубликована 821 книга. Из всей подборки книг (1000 шт.) это большое значение. Возможно, интернет-магазину книг стоит продолжать закупать современные книги и позиционировать себя соответствующим образом."
   ]
  },
  {
   "cell_type": "markdown",
   "id": "f8c3657a",
   "metadata": {},
   "source": [
    "### Количество обзоров и средняя оценка для каждой книги"
   ]
  },
  {
   "cell_type": "markdown",
   "id": "c3e77c2a",
   "metadata": {},
   "source": [
    "Для каждой книги посчитаем количество обзоров и среднюю оценку:"
   ]
  },
  {
   "cell_type": "code",
   "execution_count": 12,
   "id": "101754e4",
   "metadata": {},
   "outputs": [
    {
     "data": {
      "text/html": [
       "<div>\n",
       "<style scoped>\n",
       "    .dataframe tbody tr th:only-of-type {\n",
       "        vertical-align: middle;\n",
       "    }\n",
       "\n",
       "    .dataframe tbody tr th {\n",
       "        vertical-align: top;\n",
       "    }\n",
       "\n",
       "    .dataframe thead th {\n",
       "        text-align: right;\n",
       "    }\n",
       "</style>\n",
       "<table border=\"1\" class=\"dataframe\">\n",
       "  <thead>\n",
       "    <tr style=\"text-align: right;\">\n",
       "      <th></th>\n",
       "      <th>title</th>\n",
       "      <th>id</th>\n",
       "      <th>avg_rating</th>\n",
       "      <th>number_of_reviews</th>\n",
       "    </tr>\n",
       "  </thead>\n",
       "  <tbody>\n",
       "    <tr>\n",
       "      <th>0</th>\n",
       "      <td>Twilight (Twilight  #1)</td>\n",
       "      <td>948</td>\n",
       "      <td>3.66</td>\n",
       "      <td>7</td>\n",
       "    </tr>\n",
       "    <tr>\n",
       "      <th>1</th>\n",
       "      <td>Water for Elephants</td>\n",
       "      <td>963</td>\n",
       "      <td>3.98</td>\n",
       "      <td>6</td>\n",
       "    </tr>\n",
       "    <tr>\n",
       "      <th>2</th>\n",
       "      <td>The Glass Castle</td>\n",
       "      <td>734</td>\n",
       "      <td>4.21</td>\n",
       "      <td>6</td>\n",
       "    </tr>\n",
       "    <tr>\n",
       "      <th>3</th>\n",
       "      <td>Harry Potter and the Prisoner of Azkaban (Harry Potter  #3)</td>\n",
       "      <td>302</td>\n",
       "      <td>4.41</td>\n",
       "      <td>6</td>\n",
       "    </tr>\n",
       "    <tr>\n",
       "      <th>4</th>\n",
       "      <td>The Curious Incident of the Dog in the Night-Time</td>\n",
       "      <td>695</td>\n",
       "      <td>4.08</td>\n",
       "      <td>6</td>\n",
       "    </tr>\n",
       "    <tr>\n",
       "      <th>...</th>\n",
       "      <td>...</td>\n",
       "      <td>...</td>\n",
       "      <td>...</td>\n",
       "      <td>...</td>\n",
       "    </tr>\n",
       "    <tr>\n",
       "      <th>995</th>\n",
       "      <td>Anne Rice's The Vampire Lestat: A Graphic Novel</td>\n",
       "      <td>83</td>\n",
       "      <td>3.67</td>\n",
       "      <td>0</td>\n",
       "    </tr>\n",
       "    <tr>\n",
       "      <th>996</th>\n",
       "      <td>The Natural Way to Draw</td>\n",
       "      <td>808</td>\n",
       "      <td>3.00</td>\n",
       "      <td>0</td>\n",
       "    </tr>\n",
       "    <tr>\n",
       "      <th>997</th>\n",
       "      <td>The Cat in the Hat and Other Dr. Seuss Favorites</td>\n",
       "      <td>672</td>\n",
       "      <td>5.00</td>\n",
       "      <td>0</td>\n",
       "    </tr>\n",
       "    <tr>\n",
       "      <th>998</th>\n",
       "      <td>Essential Tales and Poems</td>\n",
       "      <td>221</td>\n",
       "      <td>4.00</td>\n",
       "      <td>0</td>\n",
       "    </tr>\n",
       "    <tr>\n",
       "      <th>999</th>\n",
       "      <td>Disney's Beauty and the Beast (A Little Golden Book)</td>\n",
       "      <td>191</td>\n",
       "      <td>4.00</td>\n",
       "      <td>0</td>\n",
       "    </tr>\n",
       "  </tbody>\n",
       "</table>\n",
       "<p>1000 rows × 4 columns</p>\n",
       "</div>"
      ],
      "text/plain": [
       "                                                           title   id  \\\n",
       "0                                        Twilight (Twilight  #1)  948   \n",
       "1                                            Water for Elephants  963   \n",
       "2                                               The Glass Castle  734   \n",
       "3    Harry Potter and the Prisoner of Azkaban (Harry Potter  #3)  302   \n",
       "4              The Curious Incident of the Dog in the Night-Time  695   \n",
       "..                                                           ...  ...   \n",
       "995              Anne Rice's The Vampire Lestat: A Graphic Novel   83   \n",
       "996                                      The Natural Way to Draw  808   \n",
       "997             The Cat in the Hat and Other Dr. Seuss Favorites  672   \n",
       "998                                    Essential Tales and Poems  221   \n",
       "999         Disney's Beauty and the Beast (A Little Golden Book)  191   \n",
       "\n",
       "     avg_rating  number_of_reviews  \n",
       "0          3.66                  7  \n",
       "1          3.98                  6  \n",
       "2          4.21                  6  \n",
       "3          4.41                  6  \n",
       "4          4.08                  6  \n",
       "..          ...                ...  \n",
       "995        3.67                  0  \n",
       "996        3.00                  0  \n",
       "997        5.00                  0  \n",
       "998        4.00                  0  \n",
       "999        4.00                  0  \n",
       "\n",
       "[1000 rows x 4 columns]"
      ]
     },
     "execution_count": 12,
     "metadata": {},
     "output_type": "execute_result"
    }
   ],
   "source": [
    "query2 = '''\n",
    "        SELECT \n",
    "            books.title AS title,\n",
    "            books.book_id AS id,\n",
    "            AVG(ratings.rating) AS avg_rating,\n",
    "            COUNT(DISTINCT reviews.text) AS number_of_reviews\n",
    "        FROM\n",
    "            books\n",
    "        INNER JOIN ratings ON ratings.book_id = books.book_id\n",
    "        LEFT JOIN reviews ON reviews.book_id = books.book_id\n",
    "        GROUP BY\n",
    "             books.title,\n",
    "             books.book_id\n",
    "        order by\n",
    "             number_of_reviews DESC\n",
    "        \n",
    "        '''\n",
    "\n",
    "pd.io.sql.read_sql(query2, con = engine)"
   ]
  },
  {
   "cell_type": "code",
   "execution_count": 13,
   "id": "a184cae7",
   "metadata": {},
   "outputs": [
    {
     "data": {
      "text/plain": [
       "2793"
      ]
     },
     "execution_count": 13,
     "metadata": {},
     "output_type": "execute_result"
    }
   ],
   "source": [
    "pd.io.sql.read_sql(query2, con = engine)['number_of_reviews'].sum()"
   ]
  },
  {
   "cell_type": "code",
   "execution_count": 14,
   "id": "f92702fb",
   "metadata": {},
   "outputs": [
    {
     "data": {
      "text/html": [
       "<div>\n",
       "<style scoped>\n",
       "    .dataframe tbody tr th:only-of-type {\n",
       "        vertical-align: middle;\n",
       "    }\n",
       "\n",
       "    .dataframe tbody tr th {\n",
       "        vertical-align: top;\n",
       "    }\n",
       "\n",
       "    .dataframe thead th {\n",
       "        text-align: right;\n",
       "    }\n",
       "</style>\n",
       "<table border=\"1\" class=\"dataframe\">\n",
       "  <thead>\n",
       "    <tr style=\"text-align: right;\">\n",
       "      <th></th>\n",
       "      <th>title</th>\n",
       "      <th>id</th>\n",
       "      <th>avg_rating</th>\n",
       "      <th>number_of_reviews</th>\n",
       "    </tr>\n",
       "  </thead>\n",
       "  <tbody>\n",
       "    <tr>\n",
       "      <th>994</th>\n",
       "      <td>Leonardo's Notebooks</td>\n",
       "      <td>387</td>\n",
       "      <td>4.00</td>\n",
       "      <td>0</td>\n",
       "    </tr>\n",
       "    <tr>\n",
       "      <th>995</th>\n",
       "      <td>Anne Rice's The Vampire Lestat: A Graphic Novel</td>\n",
       "      <td>83</td>\n",
       "      <td>3.67</td>\n",
       "      <td>0</td>\n",
       "    </tr>\n",
       "    <tr>\n",
       "      <th>996</th>\n",
       "      <td>The Natural Way to Draw</td>\n",
       "      <td>808</td>\n",
       "      <td>3.00</td>\n",
       "      <td>0</td>\n",
       "    </tr>\n",
       "    <tr>\n",
       "      <th>997</th>\n",
       "      <td>The Cat in the Hat and Other Dr. Seuss Favorites</td>\n",
       "      <td>672</td>\n",
       "      <td>5.00</td>\n",
       "      <td>0</td>\n",
       "    </tr>\n",
       "    <tr>\n",
       "      <th>998</th>\n",
       "      <td>Essential Tales and Poems</td>\n",
       "      <td>221</td>\n",
       "      <td>4.00</td>\n",
       "      <td>0</td>\n",
       "    </tr>\n",
       "    <tr>\n",
       "      <th>999</th>\n",
       "      <td>Disney's Beauty and the Beast (A Little Golden Book)</td>\n",
       "      <td>191</td>\n",
       "      <td>4.00</td>\n",
       "      <td>0</td>\n",
       "    </tr>\n",
       "  </tbody>\n",
       "</table>\n",
       "</div>"
      ],
      "text/plain": [
       "                                                    title   id  avg_rating  \\\n",
       "994                                  Leonardo's Notebooks  387        4.00   \n",
       "995       Anne Rice's The Vampire Lestat: A Graphic Novel   83        3.67   \n",
       "996                               The Natural Way to Draw  808        3.00   \n",
       "997      The Cat in the Hat and Other Dr. Seuss Favorites  672        5.00   \n",
       "998                             Essential Tales and Poems  221        4.00   \n",
       "999  Disney's Beauty and the Beast (A Little Golden Book)  191        4.00   \n",
       "\n",
       "     number_of_reviews  \n",
       "994                  0  \n",
       "995                  0  \n",
       "996                  0  \n",
       "997                  0  \n",
       "998                  0  \n",
       "999                  0  "
      ]
     },
     "execution_count": 14,
     "metadata": {},
     "output_type": "execute_result"
    }
   ],
   "source": [
    "pd.io.sql.read_sql(query2, con = engine)[pd.io.sql.read_sql(query2, con = engine)['number_of_reviews'] == 0]"
   ]
  },
  {
   "cell_type": "code",
   "execution_count": 15,
   "id": "91f492bf",
   "metadata": {},
   "outputs": [
    {
     "data": {
      "image/png": "[encoded data removed]",
      "text/plain": [
       "<Figure size 1440x360 with 2 Axes>"
      ]
     },
     "metadata": {
      "needs_background": "light"
     },
     "output_type": "display_data"
    }
   ],
   "source": [
    "pd.io.sql.read_sql(query2, con = engine)[['number_of_reviews', 'avg_rating']].hist(figsize=(20,5))\n",
    "plt.show()"
   ]
  },
  {
   "cell_type": "markdown",
   "id": "59df5e4b",
   "metadata": {},
   "source": [
    "Выводы:\n",
    "* Большинство книг имеет небольшое количество отзывов (1,5 - 2 шт.) Пользователи оставляют отзывы, только если книга оставила сильные впечатления. Максимальное количество отзывов - 7 (у книги Twilight (Twilight #1))\n",
    "* Преобладают высокие оценки, т.е. гистограмма распределения смещена вправо. Чаще всего книги получают оценку 4-4.5 балла из 5."
   ]
  },
  {
   "cell_type": "code",
   "execution_count": 16,
   "id": "abc2eaf9",
   "metadata": {},
   "outputs": [
    {
     "data": {
      "image/png": "[encoded data removed]",
      "text/plain": [
       "<Figure size 1440x360 with 2 Axes>"
      ]
     },
     "metadata": {
      "needs_background": "light"
     },
     "output_type": "display_data"
    }
   ],
   "source": [
    "fig = plt.figure(figsize=(20,5))\n",
    "\n",
    "ax1 = plt.subplot2grid((1,2),(0,0))\n",
    "sns.boxplot(x=pd.io.sql.read_sql(query2, con = engine)['number_of_reviews'])\n",
    "#plt.xlim(0, 50)\n",
    "plt.title('Количество обзоров для каждой книги', fontsize = 16)\n",
    "\n",
    "ax1 = plt.subplot2grid((1, 2), (0, 1))\n",
    "sns.boxplot(x=pd.io.sql.read_sql(query2, con = engine)['avg_rating'])\n",
    "plt.title('Средняя оценка для каждой книги', fontsize = 16)\n",
    "\n",
    "plt.show()"
   ]
  },
  {
   "cell_type": "markdown",
   "id": "96d4550b",
   "metadata": {},
   "source": [
    "Выводы по ящикам с усами:\n",
    "  * Видим выбросы в количестве обзоров: аномальные значения слева  - 0 обзоров, справа - 5-7 обзоров.\n",
    "  * Низкие оценки книг встречаются редко и являются аномалиями."
   ]
  },
  {
   "cell_type": "markdown",
   "id": "01d06565",
   "metadata": {},
   "source": [
    "### Издательство, которое выпустило наибольшее число книг толще 50 страниц"
   ]
  },
  {
   "cell_type": "markdown",
   "id": "6a9638d1",
   "metadata": {},
   "source": [
    "Определим издательство, которое выпустило наибольшее число книг толще 50 страниц — так исключим из анализа брошюры."
   ]
  },
  {
   "cell_type": "code",
   "execution_count": 17,
   "id": "d1f902f4",
   "metadata": {},
   "outputs": [
    {
     "data": {
      "text/html": [
       "<div>\n",
       "<style scoped>\n",
       "    .dataframe tbody tr th:only-of-type {\n",
       "        vertical-align: middle;\n",
       "    }\n",
       "\n",
       "    .dataframe tbody tr th {\n",
       "        vertical-align: top;\n",
       "    }\n",
       "\n",
       "    .dataframe thead th {\n",
       "        text-align: right;\n",
       "    }\n",
       "</style>\n",
       "<table border=\"1\" class=\"dataframe\">\n",
       "  <thead>\n",
       "    <tr style=\"text-align: right;\">\n",
       "      <th></th>\n",
       "      <th>publisher_id</th>\n",
       "      <th>publisher</th>\n",
       "      <th>count</th>\n",
       "    </tr>\n",
       "  </thead>\n",
       "  <tbody>\n",
       "    <tr>\n",
       "      <th>0</th>\n",
       "      <td>212</td>\n",
       "      <td>Penguin Books</td>\n",
       "      <td>42</td>\n",
       "    </tr>\n",
       "  </tbody>\n",
       "</table>\n",
       "</div>"
      ],
      "text/plain": [
       "   publisher_id      publisher  count\n",
       "0           212  Penguin Books     42"
      ]
     },
     "execution_count": 17,
     "metadata": {},
     "output_type": "execute_result"
    }
   ],
   "source": [
    "query3 = '''SELECT p.publisher_id, publisher, count(b.book_id)\n",
    "            FROM books as b\n",
    "            JOIN publishers as p on b.publisher_id = p.publisher_id\n",
    "            WHERE b.num_pages > 50  \n",
    "            group by p.publisher_id\n",
    "            order by count DESC\n",
    "            LIMIT 1\n",
    "\n",
    "            '''\n",
    "\n",
    "pd.io.sql.read_sql(query3, con = engine)"
   ]
  },
  {
   "cell_type": "markdown",
   "id": "fe8e9ffe",
   "metadata": {},
   "source": [
    "**Вывод:** Издательство Penguin Books опубликовало 42 книги (и все они имеют 50 страниц, не являются брошюрами). Интернет-магазину стоит следить за свежими выпусками книг от этого издательства и закупать их."
   ]
  },
  {
   "cell_type": "markdown",
   "id": "72ec28ca",
   "metadata": {},
   "source": [
    "### Автор с самой высокой средней оценкой книг среди книг с 50 и более оценками"
   ]
  },
  {
   "cell_type": "markdown",
   "id": "33aa3f90",
   "metadata": {},
   "source": [
    "Определите автора с самой высокой средней оценкой книг — учитывайте только книги с 50 и более оценками;"
   ]
  },
  {
   "cell_type": "code",
   "execution_count": 19,
   "id": "0ddb2d20",
   "metadata": {},
   "outputs": [
    {
     "data": {
      "text/html": [
       "<div>\n",
       "<style scoped>\n",
       "    .dataframe tbody tr th:only-of-type {\n",
       "        vertical-align: middle;\n",
       "    }\n",
       "\n",
       "    .dataframe tbody tr th {\n",
       "        vertical-align: top;\n",
       "    }\n",
       "\n",
       "    .dataframe thead th {\n",
       "        text-align: right;\n",
       "    }\n",
       "</style>\n",
       "<table border=\"1\" class=\"dataframe\">\n",
       "  <thead>\n",
       "    <tr style=\"text-align: right;\">\n",
       "      <th></th>\n",
       "      <th>author</th>\n",
       "      <th>avg_rating</th>\n",
       "    </tr>\n",
       "  </thead>\n",
       "  <tbody>\n",
       "    <tr>\n",
       "      <th>0</th>\n",
       "      <td>J.K. Rowling/Mary GrandPré</td>\n",
       "      <td>4.28</td>\n",
       "    </tr>\n",
       "  </tbody>\n",
       "</table>\n",
       "</div>"
      ],
      "text/plain": [
       "                       author  avg_rating\n",
       "0  J.K. Rowling/Mary GrandPré        4.28"
      ]
     },
     "execution_count": 19,
     "metadata": {},
     "output_type": "execute_result"
    }
   ],
   "source": [
    "query4 = '''WITH \n",
    "\n",
    "            g AS\n",
    "            (SELECT\n",
    "                authors.author AS author,\n",
    "                books.book_id AS id,\n",
    "                AVG(ratings.rating) AS avg_rating,\n",
    "                COUNT(ratings.rating) AS cnt_rating\n",
    "            FROM\n",
    "                authors\n",
    "            INNER JOIN books ON books.author_id = authors.author_id\n",
    "            INNER JOIN ratings ON ratings.book_id = books.book_id\n",
    "            GROUP BY\n",
    "                author,\n",
    "                id\n",
    "                HAVING\n",
    "                COUNT(ratings.rating) >= 50) \n",
    "            \n",
    "        SELECT\n",
    "            g.author AS author,\n",
    "            AVG(g.avg_rating) AS avg_rating\n",
    "        FROM g\n",
    "        \n",
    "        GROUP BY\n",
    "            author\n",
    "        ORDER BY\n",
    "            avg_rating DESC\n",
    "        LIMIT 1\n",
    "        '''\n",
    "\n",
    "pd.io.sql.read_sql(query4, con = engine)"
   ]
  },
  {
   "cell_type": "markdown",
   "id": "35f1b2bb",
   "metadata": {},
   "source": [
    "Автор J.K. Rowling/Mary GrandPré имеет самую высокую оценку книг (4.28) среди книг с большим количеством оценок (больше 50), то есть можно считать автора признанным и любимым читателями. Интернет-магазин может закупать больше книг этой писательницы, они наверняка понравятся читателю. Гарри Поттер популярен до сих пор"
   ]
  },
  {
   "cell_type": "markdown",
   "id": "930e4e37",
   "metadata": {},
   "source": [
    "### Среднее количество обзоров от пользователей, которые поставили больше 50 оценок"
   ]
  },
  {
   "cell_type": "markdown",
   "id": "c7b737ac",
   "metadata": {},
   "source": [
    "Посчитаем среднее количество обзоров от пользователей, которые поставили больше 50 оценок:"
   ]
  },
  {
   "cell_type": "code",
   "execution_count": 22,
   "id": "54235dd3",
   "metadata": {},
   "outputs": [
    {
     "data": {
      "text/html": [
       "<div>\n",
       "<style scoped>\n",
       "    .dataframe tbody tr th:only-of-type {\n",
       "        vertical-align: middle;\n",
       "    }\n",
       "\n",
       "    .dataframe tbody tr th {\n",
       "        vertical-align: top;\n",
       "    }\n",
       "\n",
       "    .dataframe thead th {\n",
       "        text-align: right;\n",
       "    }\n",
       "</style>\n",
       "<table border=\"1\" class=\"dataframe\">\n",
       "  <thead>\n",
       "    <tr style=\"text-align: right;\">\n",
       "      <th></th>\n",
       "      <th>avg_number_of_reviews</th>\n",
       "    </tr>\n",
       "  </thead>\n",
       "  <tbody>\n",
       "    <tr>\n",
       "      <th>0</th>\n",
       "      <td>24.33</td>\n",
       "    </tr>\n",
       "  </tbody>\n",
       "</table>\n",
       "</div>"
      ],
      "text/plain": [
       "   avg_number_of_reviews\n",
       "0                  24.33"
      ]
     },
     "execution_count": 22,
     "metadata": {},
     "output_type": "execute_result"
    }
   ],
   "source": [
    "query5 = ''' WITH\n",
    "             users as \n",
    "\n",
    "             (SELECT username, COUNT(rating_id)\n",
    "                 FROM ratings\n",
    "                 GROUP BY username\n",
    "                 HAVING COUNT(rating_id) > 50)\n",
    "             \n",
    "             SELECT AVG(number_of_reviews) AS avg_number_of_reviews\n",
    "             FROM\n",
    "\n",
    "             (SELECT COUNT(r.review_id) as number_of_reviews\n",
    "                 FROM users\n",
    "                 JOIN reviews as r on r.username = users.username\n",
    "                 GROUP BY r.username) AS number_of_reviews;\n",
    "                 \n",
    "             '''\n",
    "\n",
    "pd.io.sql.read_sql(query5, con = engine)"
   ]
  },
  {
   "cell_type": "markdown",
   "id": "875e2453",
   "metadata": {},
   "source": [
    "Получилось среднее значение количества обзоров от пользователей, поставивших более 50 оценок, равное 24.33."
   ]
  },
  {
   "cell_type": "code",
   "execution_count": null,
   "id": "8986f0ac",
   "metadata": {},
   "outputs": [],
   "source": []
  }
 ],
 "metadata": {
  "ExecuteTimeLog": [
   {
    "duration": 1341,
    "start_time": "2022-06-04T22:46:37.436Z"
   },
   {
    "duration": 2,
    "start_time": "2022-06-04T22:46:38.779Z"
   },
   {
    "duration": 11,
    "start_time": "2022-06-04T22:46:38.783Z"
   },
   {
    "duration": 42,
    "start_time": "2022-06-04T22:46:38.796Z"
   },
   {
    "duration": 284,
    "start_time": "2022-06-04T22:46:38.839Z"
   },
   {
    "duration": 78,
    "start_time": "2022-06-04T22:46:39.125Z"
   },
   {
    "duration": 72,
    "start_time": "2022-06-04T22:46:39.205Z"
   },
   {
    "duration": 73,
    "start_time": "2022-06-04T22:46:39.279Z"
   },
   {
    "duration": 95,
    "start_time": "2022-06-04T22:46:39.353Z"
   },
   {
    "duration": 77,
    "start_time": "2022-06-04T22:46:39.450Z"
   },
   {
    "duration": 71,
    "start_time": "2022-06-04T22:46:39.529Z"
   },
   {
    "duration": 69,
    "start_time": "2022-06-04T22:46:39.601Z"
   },
   {
    "duration": 323,
    "start_time": "2022-06-04T22:46:39.671Z"
   },
   {
    "duration": 347,
    "start_time": "2022-06-04T22:46:39.995Z"
   },
   {
    "duration": 76,
    "start_time": "2022-06-04T22:46:40.344Z"
   },
   {
    "duration": 82,
    "start_time": "2022-06-04T22:46:40.422Z"
   },
   {
    "duration": 73,
    "start_time": "2022-06-04T22:46:40.506Z"
   },
   {
    "duration": 183,
    "start_time": "2022-06-04T22:49:24.990Z"
   },
   {
    "duration": 100,
    "start_time": "2022-06-04T22:49:37.737Z"
   },
   {
    "duration": 100,
    "start_time": "2022-06-04T22:49:41.614Z"
   },
   {
    "duration": 62,
    "start_time": "2022-06-04T23:27:13.589Z"
   },
   {
    "duration": 1508,
    "start_time": "2022-06-04T23:27:22.882Z"
   },
   {
    "duration": 4,
    "start_time": "2022-06-04T23:27:27.715Z"
   },
   {
    "duration": 3,
    "start_time": "2022-06-04T23:27:30.419Z"
   },
   {
    "duration": 2667,
    "start_time": "2022-06-04T23:27:32.203Z"
   },
   {
    "duration": 287,
    "start_time": "2022-06-04T23:27:35.379Z"
   },
   {
    "duration": 78,
    "start_time": "2022-06-04T23:44:38.974Z"
   },
   {
    "duration": 105,
    "start_time": "2022-06-04T23:45:26.289Z"
   },
   {
    "duration": 99,
    "start_time": "2022-06-04T23:45:52.773Z"
   },
   {
    "duration": 89,
    "start_time": "2022-06-04T23:45:59.432Z"
   },
   {
    "duration": 225,
    "start_time": "2022-06-04T23:46:47.456Z"
   },
   {
    "duration": 116,
    "start_time": "2022-06-04T23:47:05.889Z"
   },
   {
    "duration": 114,
    "start_time": "2022-06-04T23:47:20.754Z"
   },
   {
    "duration": 101,
    "start_time": "2022-06-04T23:47:43.642Z"
   },
   {
    "duration": 100,
    "start_time": "2022-06-04T23:47:47.512Z"
   },
   {
    "duration": 98,
    "start_time": "2022-06-04T23:49:03.824Z"
   },
   {
    "duration": 82,
    "start_time": "2022-06-04T23:49:35.776Z"
   },
   {
    "duration": 78,
    "start_time": "2022-06-04T23:49:49.874Z"
   },
   {
    "duration": 80,
    "start_time": "2022-06-04T23:50:12.650Z"
   },
   {
    "duration": 78,
    "start_time": "2022-06-04T23:50:18.623Z"
   },
   {
    "duration": 81,
    "start_time": "2022-06-04T23:51:28.847Z"
   },
   {
    "duration": 72,
    "start_time": "2022-06-04T23:51:59.304Z"
   },
   {
    "duration": 76,
    "start_time": "2022-06-04T23:54:04.778Z"
   },
   {
    "duration": 108,
    "start_time": "2022-06-04T23:54:56.401Z"
   },
   {
    "duration": 102,
    "start_time": "2022-06-04T23:55:36.171Z"
   },
   {
    "duration": 70,
    "start_time": "2022-06-04T23:55:39.870Z"
   },
   {
    "duration": 70,
    "start_time": "2022-06-04T23:56:52.006Z"
   },
   {
    "duration": 107,
    "start_time": "2022-06-04T23:57:41.610Z"
   },
   {
    "duration": 102,
    "start_time": "2022-06-04T23:57:57.640Z"
   },
   {
    "duration": 106,
    "start_time": "2022-06-04T23:58:09.041Z"
   },
   {
    "duration": 107,
    "start_time": "2022-06-04T23:58:17.856Z"
   },
   {
    "duration": 113,
    "start_time": "2022-06-04T23:59:35.107Z"
   },
   {
    "duration": 81,
    "start_time": "2022-06-05T00:01:04.239Z"
   },
   {
    "duration": 76,
    "start_time": "2022-06-05T00:01:08.056Z"
   },
   {
    "duration": 83,
    "start_time": "2022-06-05T00:01:22.170Z"
   },
   {
    "duration": 98,
    "start_time": "2022-06-05T00:15:16.075Z"
   },
   {
    "duration": 88,
    "start_time": "2022-06-05T00:15:21.387Z"
   },
   {
    "duration": 91,
    "start_time": "2022-06-05T00:17:38.409Z"
   },
   {
    "duration": 82,
    "start_time": "2022-06-05T00:17:41.897Z"
   },
   {
    "duration": 401,
    "start_time": "2022-06-05T00:18:11.082Z"
   },
   {
    "duration": 119,
    "start_time": "2022-06-05T00:19:45.977Z"
   },
   {
    "duration": 132,
    "start_time": "2022-06-05T00:19:52.874Z"
   },
   {
    "duration": 85,
    "start_time": "2022-06-05T00:22:45.329Z"
   },
   {
    "duration": 117,
    "start_time": "2022-06-05T00:23:48.471Z"
   },
   {
    "duration": 123,
    "start_time": "2022-06-05T00:23:57.353Z"
   },
   {
    "duration": 121,
    "start_time": "2022-06-05T00:25:15.025Z"
   },
   {
    "duration": 103,
    "start_time": "2022-06-05T00:25:21.216Z"
   },
   {
    "duration": 81,
    "start_time": "2022-06-05T00:33:18.642Z"
   },
   {
    "duration": 83,
    "start_time": "2022-06-05T00:33:53.845Z"
   },
   {
    "duration": 110,
    "start_time": "2022-06-05T00:35:22.694Z"
   },
   {
    "duration": 84,
    "start_time": "2022-06-05T00:35:33.135Z"
   },
   {
    "duration": 87,
    "start_time": "2022-06-05T00:35:54.671Z"
   },
   {
    "duration": 86,
    "start_time": "2022-06-05T00:36:04.854Z"
   },
   {
    "duration": 92,
    "start_time": "2022-06-05T00:36:23.278Z"
   },
   {
    "duration": 82,
    "start_time": "2022-06-05T00:36:34.535Z"
   },
   {
    "duration": 101,
    "start_time": "2022-06-05T00:37:11.325Z"
   },
   {
    "duration": 95,
    "start_time": "2022-06-05T00:37:16.015Z"
   },
   {
    "duration": 167,
    "start_time": "2022-06-05T00:38:13.086Z"
   },
   {
    "duration": 388,
    "start_time": "2022-06-05T00:38:46.222Z"
   },
   {
    "duration": 395,
    "start_time": "2022-06-05T00:39:07.742Z"
   },
   {
    "duration": 288,
    "start_time": "2022-06-05T00:39:22.934Z"
   },
   {
    "duration": 5,
    "start_time": "2022-06-05T01:44:40.593Z"
   },
   {
    "duration": 88,
    "start_time": "2022-06-05T01:46:47.472Z"
   },
   {
    "duration": 84,
    "start_time": "2022-06-05T01:47:45.178Z"
   },
   {
    "duration": 84,
    "start_time": "2022-06-05T01:48:17.395Z"
   },
   {
    "duration": 82,
    "start_time": "2022-06-05T01:48:29.600Z"
   },
   {
    "duration": 108,
    "start_time": "2022-06-05T01:48:34.488Z"
   },
   {
    "duration": 356,
    "start_time": "2022-06-05T01:48:41.870Z"
   },
   {
    "duration": 387,
    "start_time": "2022-06-05T01:48:50.483Z"
   },
   {
    "duration": 398,
    "start_time": "2022-06-05T01:49:03.335Z"
   },
   {
    "duration": 102,
    "start_time": "2022-06-05T01:51:16.424Z"
   },
   {
    "duration": 26,
    "start_time": "2022-06-05T01:52:21.071Z"
   },
   {
    "duration": 107,
    "start_time": "2022-06-05T01:54:33.955Z"
   },
   {
    "duration": 100,
    "start_time": "2022-06-05T01:54:47.583Z"
   },
   {
    "duration": 7,
    "start_time": "2022-06-05T01:57:26.047Z"
   },
   {
    "duration": 193,
    "start_time": "2022-06-05T01:57:34.070Z"
   },
   {
    "duration": 100,
    "start_time": "2022-06-05T01:58:01.180Z"
   },
   {
    "duration": 98,
    "start_time": "2022-06-05T01:58:07.422Z"
   },
   {
    "duration": 106,
    "start_time": "2022-06-05T01:58:22.255Z"
   },
   {
    "duration": 108,
    "start_time": "2022-06-05T01:58:48.146Z"
   },
   {
    "duration": 115,
    "start_time": "2022-06-05T01:59:01.757Z"
   },
   {
    "duration": 394,
    "start_time": "2022-06-05T01:59:05.806Z"
   },
   {
    "duration": 391,
    "start_time": "2022-06-05T01:59:11.870Z"
   },
   {
    "duration": 225,
    "start_time": "2022-06-05T02:00:25.448Z"
   },
   {
    "duration": 383,
    "start_time": "2022-06-05T02:03:19.309Z"
   },
   {
    "duration": 405,
    "start_time": "2022-06-05T02:05:35.447Z"
   },
   {
    "duration": 409,
    "start_time": "2022-06-05T02:05:55.854Z"
   },
   {
    "duration": 374,
    "start_time": "2022-06-05T02:06:25.172Z"
   },
   {
    "duration": 379,
    "start_time": "2022-06-05T02:06:49.271Z"
   },
   {
    "duration": 73,
    "start_time": "2022-06-05T02:07:46.528Z"
   },
   {
    "duration": 73,
    "start_time": "2022-06-05T02:09:22.170Z"
   },
   {
    "duration": 72,
    "start_time": "2022-06-05T02:10:11.045Z"
   },
   {
    "duration": 74,
    "start_time": "2022-06-05T02:10:24.542Z"
   },
   {
    "duration": 107,
    "start_time": "2022-06-05T02:11:45.581Z"
   },
   {
    "duration": 72,
    "start_time": "2022-06-05T02:12:28.170Z"
   },
   {
    "duration": 72,
    "start_time": "2022-06-05T02:15:40.271Z"
   },
   {
    "duration": 115,
    "start_time": "2022-06-05T02:30:11.721Z"
   },
   {
    "duration": 82,
    "start_time": "2022-06-05T02:30:20.729Z"
   },
   {
    "duration": 70,
    "start_time": "2022-06-05T02:32:51.889Z"
   },
   {
    "duration": 39,
    "start_time": "2022-06-05T02:36:04.478Z"
   },
   {
    "duration": 79,
    "start_time": "2022-06-05T02:36:13.303Z"
   },
   {
    "duration": 81,
    "start_time": "2022-06-05T02:36:51.512Z"
   },
   {
    "duration": 456,
    "start_time": "2022-06-05T02:38:44.671Z"
   },
   {
    "duration": 81,
    "start_time": "2022-06-05T02:38:48.977Z"
   },
   {
    "duration": 69,
    "start_time": "2022-06-05T02:38:51.776Z"
   },
   {
    "duration": 70,
    "start_time": "2022-06-05T02:43:21.188Z"
   },
   {
    "duration": 71,
    "start_time": "2022-06-05T02:45:33.788Z"
   },
   {
    "duration": 69,
    "start_time": "2022-06-05T02:46:36.699Z"
   },
   {
    "duration": 1304,
    "start_time": "2022-06-05T02:49:18.067Z"
   },
   {
    "duration": 3,
    "start_time": "2022-06-05T02:49:19.373Z"
   },
   {
    "duration": 9,
    "start_time": "2022-06-05T02:49:19.378Z"
   },
   {
    "duration": 39,
    "start_time": "2022-06-05T02:49:19.389Z"
   },
   {
    "duration": 291,
    "start_time": "2022-06-05T02:49:19.430Z"
   },
   {
    "duration": 87,
    "start_time": "2022-06-05T02:49:19.723Z"
   },
   {
    "duration": 82,
    "start_time": "2022-06-05T02:49:19.813Z"
   },
   {
    "duration": 80,
    "start_time": "2022-06-05T02:49:19.897Z"
   },
   {
    "duration": 110,
    "start_time": "2022-06-05T02:49:19.979Z"
   },
   {
    "duration": 93,
    "start_time": "2022-06-05T02:49:20.091Z"
   },
   {
    "duration": 76,
    "start_time": "2022-06-05T02:49:20.186Z"
   },
   {
    "duration": 97,
    "start_time": "2022-06-05T02:49:20.263Z"
   },
   {
    "duration": 89,
    "start_time": "2022-06-05T02:49:20.361Z"
   },
   {
    "duration": 180,
    "start_time": "2022-06-05T02:49:20.452Z"
   },
   {
    "duration": 357,
    "start_time": "2022-06-05T02:49:20.633Z"
   },
   {
    "duration": 396,
    "start_time": "2022-06-05T02:49:20.992Z"
   },
   {
    "duration": 76,
    "start_time": "2022-06-05T02:49:21.390Z"
   },
   {
    "duration": 77,
    "start_time": "2022-06-05T02:49:21.467Z"
   },
   {
    "duration": 80,
    "start_time": "2022-06-05T02:49:21.546Z"
   },
   {
    "duration": 77,
    "start_time": "2022-06-05T02:49:21.627Z"
   },
   {
    "duration": 75,
    "start_time": "2022-06-05T02:49:21.705Z"
   },
   {
    "duration": 77,
    "start_time": "2022-06-05T02:49:21.782Z"
   },
   {
    "duration": 82,
    "start_time": "2022-06-05T02:51:02.820Z"
   },
   {
    "duration": 80,
    "start_time": "2022-06-05T02:52:00.023Z"
   },
   {
    "duration": 235,
    "start_time": "2022-06-05T02:53:51.970Z"
   },
   {
    "duration": 80,
    "start_time": "2022-06-05T02:58:55.665Z"
   },
   {
    "duration": 78,
    "start_time": "2022-06-05T02:59:29.446Z"
   },
   {
    "duration": 77,
    "start_time": "2022-06-05T02:59:46.678Z"
   },
   {
    "duration": 120,
    "start_time": "2022-06-05T03:00:42.512Z"
   },
   {
    "duration": 125,
    "start_time": "2022-06-05T03:00:58.771Z"
   },
   {
    "duration": 192,
    "start_time": "2022-06-05T03:01:51.233Z"
   },
   {
    "duration": 78,
    "start_time": "2022-06-05T03:02:15.599Z"
   },
   {
    "duration": 79,
    "start_time": "2022-06-05T03:02:25.895Z"
   },
   {
    "duration": 78,
    "start_time": "2022-06-05T03:02:53.275Z"
   },
   {
    "duration": 1278,
    "start_time": "2022-06-05T03:03:09.799Z"
   },
   {
    "duration": 3,
    "start_time": "2022-06-05T03:03:11.081Z"
   },
   {
    "duration": 8,
    "start_time": "2022-06-05T03:03:11.085Z"
   },
   {
    "duration": 43,
    "start_time": "2022-06-05T03:03:11.094Z"
   },
   {
    "duration": 299,
    "start_time": "2022-06-05T03:03:11.138Z"
   },
   {
    "duration": 99,
    "start_time": "2022-06-05T03:03:11.439Z"
   },
   {
    "duration": 83,
    "start_time": "2022-06-05T03:03:11.540Z"
   },
   {
    "duration": 83,
    "start_time": "2022-06-05T03:03:11.625Z"
   },
   {
    "duration": 111,
    "start_time": "2022-06-05T03:03:11.710Z"
   },
   {
    "duration": 95,
    "start_time": "2022-06-05T03:03:11.824Z"
   },
   {
    "duration": 81,
    "start_time": "2022-06-05T03:03:11.921Z"
   },
   {
    "duration": 102,
    "start_time": "2022-06-05T03:03:12.004Z"
   },
   {
    "duration": 90,
    "start_time": "2022-06-05T03:03:12.107Z"
   },
   {
    "duration": 189,
    "start_time": "2022-06-05T03:03:12.199Z"
   },
   {
    "duration": 394,
    "start_time": "2022-06-05T03:03:12.389Z"
   },
   {
    "duration": 389,
    "start_time": "2022-06-05T03:03:12.786Z"
   },
   {
    "duration": 78,
    "start_time": "2022-06-05T03:03:13.179Z"
   },
   {
    "duration": 83,
    "start_time": "2022-06-05T03:03:13.260Z"
   },
   {
    "duration": 88,
    "start_time": "2022-06-05T03:03:13.344Z"
   },
   {
    "duration": 85,
    "start_time": "2022-06-05T03:03:13.434Z"
   },
   {
    "duration": 84,
    "start_time": "2022-06-05T03:03:13.521Z"
   },
   {
    "duration": 86,
    "start_time": "2022-06-05T03:03:13.606Z"
   }
  ],
  "kernelspec": {
   "display_name": "Python 3",
   "language": "python",
   "name": "python3"
  },
  "language_info": {
   "codemirror_mode": {
    "name": "ipython",
    "version": 3
   },
   "file_extension": ".py",
   "mimetype": "text/x-python",
   "name": "python",
   "nbconvert_exporter": "python",
   "pygments_lexer": "ipython3",
   "version": "3.8.8"
  },
  "toc": {
   "base_numbering": 1,
   "nav_menu": {},
   "number_sections": true,
   "sideBar": true,
   "skip_h1_title": false,
   "title_cell": "Table of Contents",
   "title_sidebar": "Contents",
   "toc_cell": false,
   "toc_position": {
    "height": "782.133px",
    "left": "740px",
    "top": "399.333px",
    "width": "409.6px"
   },
   "toc_section_display": true,
   "toc_window_display": true
  }
 },
 "nbformat": 4,
 "nbformat_minor": 5
}
